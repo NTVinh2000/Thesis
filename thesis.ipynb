{
 "cells": [
  {
   "cell_type": "markdown",
   "metadata": {
    "id": "EhwRHa8Vgaq-"
   },
   "source": [
    "Config"
   ]
  },
  {
   "cell_type": "code",
   "execution_count": null,
   "metadata": {
    "id": "jQroo96x1tYC",
    "tags": []
   },
   "outputs": [],
   "source": [
    "%%sh\n",
    "curl https://packages.microsoft.com/keys/microsoft.asc | apt-key add -\n",
    "curl https://packages.microsoft.com/config/ubuntu/16.04/prod.list > /etc/apt/sources.list.d/mssql-release.list\n",
    "sudo apt-get update\n",
    "sudo ACCEPT_EULA=Y apt-get -q -y install msodbcsql17\n"
   ]
  },
  {
   "cell_type": "code",
   "execution_count": 157,
   "metadata": {
    "id": "M5Fcoqyqo6vv"
   },
   "outputs": [
    {
     "name": "stdout",
     "output_type": "stream",
     "text": [
      "Requirement already satisfied: graphviz in c:\\users\\vinh2_ri4orrg\\pycharmprojects\\pythonproject1\\venv\\lib\\site-packages (0.19.1)\n",
      "Requirement already satisfied: matplotlib in c:\\users\\vinh2_ri4orrg\\pycharmprojects\\pythonproject1\\venv\\lib\\site-packages (3.5.1)\n",
      "Requirement already satisfied: pyparsing>=2.2.1 in c:\\users\\vinh2_ri4orrg\\pycharmprojects\\pythonproject1\\venv\\lib\\site-packages (from matplotlib) (3.0.7)\n",
      "Requirement already satisfied: packaging>=20.0 in c:\\users\\vinh2_ri4orrg\\pycharmprojects\\pythonproject1\\venv\\lib\\site-packages (from matplotlib) (21.3)\n",
      "Requirement already satisfied: kiwisolver>=1.0.1 in c:\\users\\vinh2_ri4orrg\\pycharmprojects\\pythonproject1\\venv\\lib\\site-packages (from matplotlib) (1.4.2)\n",
      "Requirement already satisfied: cycler>=0.10 in c:\\users\\vinh2_ri4orrg\\pycharmprojects\\pythonproject1\\venv\\lib\\site-packages (from matplotlib) (0.11.0)\n",
      "Requirement already satisfied: numpy>=1.17 in c:\\users\\vinh2_ri4orrg\\pycharmprojects\\pythonproject1\\venv\\lib\\site-packages (from matplotlib) (1.22.3)\n",
      "Requirement already satisfied: python-dateutil>=2.7 in c:\\users\\vinh2_ri4orrg\\pycharmprojects\\pythonproject1\\venv\\lib\\site-packages (from matplotlib) (2.8.2)\n",
      "Requirement already satisfied: fonttools>=4.22.0 in c:\\users\\vinh2_ri4orrg\\pycharmprojects\\pythonproject1\\venv\\lib\\site-packages (from matplotlib) (4.32.0)\n",
      "Requirement already satisfied: pillow>=6.2.0 in c:\\users\\vinh2_ri4orrg\\pycharmprojects\\pythonproject1\\venv\\lib\\site-packages (from matplotlib) (9.1.0)\n",
      "Requirement already satisfied: six>=1.5 in c:\\users\\vinh2_ri4orrg\\pycharmprojects\\pythonproject1\\venv\\lib\\site-packages (from python-dateutil>=2.7->matplotlib) (1.16.0)\n",
      "Requirement already satisfied: xarray in c:\\users\\vinh2_ri4orrg\\pycharmprojects\\pythonproject1\\venv\\lib\\site-packages (2022.3.0)\n",
      "Requirement already satisfied: packaging>=20.0 in c:\\users\\vinh2_ri4orrg\\pycharmprojects\\pythonproject1\\venv\\lib\\site-packages (from xarray) (21.3)\n",
      "Requirement already satisfied: numpy>=1.18 in c:\\users\\vinh2_ri4orrg\\pycharmprojects\\pythonproject1\\venv\\lib\\site-packages (from xarray) (1.22.3)\n",
      "Requirement already satisfied: pandas>=1.1 in c:\\users\\vinh2_ri4orrg\\pycharmprojects\\pythonproject1\\venv\\lib\\site-packages (from xarray) (1.4.2)\n",
      "Requirement already satisfied: pyparsing!=3.0.5,>=2.0.2 in c:\\users\\vinh2_ri4orrg\\pycharmprojects\\pythonproject1\\venv\\lib\\site-packages (from packaging>=20.0->xarray) (3.0.7)\n",
      "Requirement already satisfied: python-dateutil>=2.8.1 in c:\\users\\vinh2_ri4orrg\\pycharmprojects\\pythonproject1\\venv\\lib\\site-packages (from pandas>=1.1->xarray) (2.8.2)\n",
      "Requirement already satisfied: pytz>=2020.1 in c:\\users\\vinh2_ri4orrg\\pycharmprojects\\pythonproject1\\venv\\lib\\site-packages (from pandas>=1.1->xarray) (2022.1)\n",
      "Requirement already satisfied: six>=1.5 in c:\\users\\vinh2_ri4orrg\\pycharmprojects\\pythonproject1\\venv\\lib\\site-packages (from python-dateutil>=2.8.1->pandas>=1.1->xarray) (1.16.0)\n",
      "Requirement already satisfied: seaborn in c:\\users\\vinh2_ri4orrg\\pycharmprojects\\pythonproject1\\venv\\lib\\site-packages (0.11.2)\n",
      "Requirement already satisfied: scipy>=1.0 in c:\\users\\vinh2_ri4orrg\\pycharmprojects\\pythonproject1\\venv\\lib\\site-packages (from seaborn) (1.8.0)\n",
      "Requirement already satisfied: pandas>=0.23 in c:\\users\\vinh2_ri4orrg\\pycharmprojects\\pythonproject1\\venv\\lib\\site-packages (from seaborn) (1.4.2)\n",
      "Requirement already satisfied: numpy>=1.15 in c:\\users\\vinh2_ri4orrg\\pycharmprojects\\pythonproject1\\venv\\lib\\site-packages (from seaborn) (1.22.3)\n",
      "Requirement already satisfied: matplotlib>=2.2 in c:\\users\\vinh2_ri4orrg\\pycharmprojects\\pythonproject1\\venv\\lib\\site-packages (from seaborn) (3.5.1)\n",
      "Requirement already satisfied: fonttools>=4.22.0 in c:\\users\\vinh2_ri4orrg\\pycharmprojects\\pythonproject1\\venv\\lib\\site-packages (from matplotlib>=2.2->seaborn) (4.32.0)\n",
      "Requirement already satisfied: python-dateutil>=2.7 in c:\\users\\vinh2_ri4orrg\\pycharmprojects\\pythonproject1\\venv\\lib\\site-packages (from matplotlib>=2.2->seaborn) (2.8.2)\n",
      "Requirement already satisfied: cycler>=0.10 in c:\\users\\vinh2_ri4orrg\\pycharmprojects\\pythonproject1\\venv\\lib\\site-packages (from matplotlib>=2.2->seaborn) (0.11.0)\n",
      "Requirement already satisfied: packaging>=20.0 in c:\\users\\vinh2_ri4orrg\\pycharmprojects\\pythonproject1\\venv\\lib\\site-packages (from matplotlib>=2.2->seaborn) (21.3)\n",
      "Requirement already satisfied: pyparsing>=2.2.1 in c:\\users\\vinh2_ri4orrg\\pycharmprojects\\pythonproject1\\venv\\lib\\site-packages (from matplotlib>=2.2->seaborn) (3.0.7)\n",
      "Requirement already satisfied: pillow>=6.2.0 in c:\\users\\vinh2_ri4orrg\\pycharmprojects\\pythonproject1\\venv\\lib\\site-packages (from matplotlib>=2.2->seaborn) (9.1.0)\n",
      "Requirement already satisfied: kiwisolver>=1.0.1 in c:\\users\\vinh2_ri4orrg\\pycharmprojects\\pythonproject1\\venv\\lib\\site-packages (from matplotlib>=2.2->seaborn) (1.4.2)\n",
      "Requirement already satisfied: pytz>=2020.1 in c:\\users\\vinh2_ri4orrg\\pycharmprojects\\pythonproject1\\venv\\lib\\site-packages (from pandas>=0.23->seaborn) (2022.1)\n",
      "Requirement already satisfied: six>=1.5 in c:\\users\\vinh2_ri4orrg\\pycharmprojects\\pythonproject1\\venv\\lib\\site-packages (from python-dateutil>=2.7->matplotlib>=2.2->seaborn) (1.16.0)\n"
     ]
    }
   ],
   "source": [
    "!pip3 install graphviz\n",
    "!pip3 install matplotlib\n",
    "!pip3 install xarray\n",
    "!pip3 install seaborn\n"
   ]
  },
  {
   "cell_type": "code",
   "execution_count": null,
   "metadata": {
    "id": "e7tV7vLwg8Yr",
    "tags": []
   },
   "outputs": [],
   "source": [
    "!sudo apt-get install unixodbc-dev\n",
    "!pip install pyodbc\n",
    "!pip install chart_studio\n",
    "!pip install atoti\n",
    "!pip install atoti-jupyterlab\n"
   ]
  },
  {
   "cell_type": "code",
   "execution_count": 1,
   "metadata": {
    "id": "KN8XCuZD5-H5"
   },
   "outputs": [
    {
     "name": "stdout",
     "output_type": "stream",
     "text": [
      "Welcome to atoti 0.6.5!\n",
      "\n",
      "By using this community edition, you agree with the license available at https://docs.atoti.io/latest/eula.html.\n",
      "Browse the official documentation at https://docs.atoti.io.\n",
      "Join the community at https://www.atoti.io/register.\n",
      "\n",
      "atoti collects telemetry data, which is used to help understand how to improve the product.\n",
      "If you don't wish to send usage data, set the ATOTI_DISABLE_TELEMETRY environment variable to True.\n",
      "\n",
      "You can hide this message by setting the ATOTI_HIDE_EULA_MESSAGE environment variable to True.\n"
     ]
    }
   ],
   "source": [
    "import pyodbc\n",
    "import pandas as pd\n",
    "import atoti as tt\n",
    "import graphviz\n",
    "import matplotlib.pyplot as plt\n",
    "import seaborn as sns\n",
    "import xml.etree.ElementTree as ET\n"
   ]
  },
  {
   "cell_type": "code",
   "execution_count": 9,
   "metadata": {},
   "outputs": [
    {
     "name": "stdout",
     "output_type": "stream",
     "text": [
      "Cube {'name': 'Sales OLAP cube', 'visible': 'true', 'cache': 'true', 'enabled': 'true'}\n",
      "Cube {'name': 'Purchase', 'visible': 'true', 'cache': 'true', 'enabled': 'true'}\n"
     ]
    }
   ],
   "source": [
    "tree = ET.parse('C:/Users/vinh2_ri4orrg/Atoti notebook/Schema1.xml')\n",
    "root = tree.getroot()\n",
    "for child in root:\n",
    "    print(child.tag, child.attrib)"
   ]
  },
  {
   "cell_type": "markdown",
   "metadata": {
    "id": "O--ahsVrfVa_"
   },
   "source": [
    "Create connection to azure db\n"
   ]
  },
  {
   "cell_type": "code",
   "execution_count": 3,
   "metadata": {
    "id": "wqXWyRq51wMC"
   },
   "outputs": [],
   "source": [
    "\n",
    "server = 'thesis-vinh-minh.database.windows.net'\n",
    "database = 'WWIDW-thesis'\n",
    "username = 'thesis'\n",
    "password = 'Bminhganhteam123'   \n",
    "driver= '{ODBC Driver 17 for SQL Server}'\n",
    "\n",
    "conn= pyodbc.connect('DRIVER='+driver+';SERVER=tcp:'+server+';PORT=1433;DATABASE='+database+';UID='+username+';PWD='+ password)\n",
    "cursor =  conn.cursor() \n"
   ]
  },
  {
   "cell_type": "markdown",
   "metadata": {
    "id": "gvoI_J2p7Exi"
   },
   "source": [
    "Get data from azure sql server to dataframe"
   ]
  },
  {
   "cell_type": "code",
   "execution_count": 4,
   "metadata": {
    "id": "AQfEHDMm0LMU",
    "tags": []
   },
   "outputs": [
    {
     "name": "stderr",
     "output_type": "stream",
     "text": [
      "c:\\users\\vinh2_ri4orrg\\pycharmprojects\\pythonproject1\\venv\\lib\\site-packages\\pandas\\io\\sql.py:761: UserWarning: pandas only support SQLAlchemy connectable(engine/connection) ordatabase string URI or sqlite3 DBAPI2 connectionother DBAPI2 objects are not tested, please consider using SQLAlchemy\n",
      "  warnings.warn(\n"
     ]
    }
   ],
   "source": [
    "\n",
    "sql = \"SELECT top 1000 * FROM Fact.Sale\"\n",
    "data = pd.read_sql(sql,conn)"
   ]
  },
  {
   "cell_type": "markdown",
   "metadata": {
    "id": "pIvBtMCpfahB"
   },
   "source": [
    "Execute queries"
   ]
  },
  {
   "cell_type": "code",
   "execution_count": 6,
   "metadata": {
    "id": "5FBwdjXZ1uvV",
    "tags": []
   },
   "outputs": [
    {
     "name": "stdout",
     "output_type": "stream",
     "text": [
      "(1, 69644, 0, 0, 153, datetime.date(2013, 1, 1), datetime.date(2013, 1, 2), 15, 1, 'Ride on toy sedan car (Black) 1/12 scale', 'Each', 10, Decimal('230.00'), Decimal('15.000'), Decimal('2300.00'), Decimal('345.00'), Decimal('850.00'), Decimal('2645.00'), 10, 0, 11) \n",
      "\n",
      "(2, 47692, 0, 0, 170, datetime.date(2013, 1, 1), datetime.date(2013, 1, 2), 6, 2, 'Developer joke mug - old C developers never die (White)', 'Each', 9, Decimal('13.00'), Decimal('15.000'), Decimal('117.00'), Decimal('17.55'), Decimal('76.50'), Decimal('134.55'), 9, 0, 11) \n",
      "\n",
      "(3, 47692, 0, 0, 210, datetime.date(2013, 1, 1), datetime.date(2013, 1, 2), 6, 2, 'USB food flash drive - chocolate bar', 'Each', 9, Decimal('32.00'), Decimal('15.000'), Decimal('288.00'), Decimal('43.20'), Decimal('180.00'), Decimal('331.20'), 9, 0, 11) \n",
      "\n",
      "(4, 68504, 105, 1, 106, datetime.date(2013, 1, 1), datetime.date(2013, 1, 2), 4, 3, 'Superhero action jacket (Blue) XXL', 'Each', 3, Decimal('30.00'), Decimal('15.000'), Decimal('90.00'), Decimal('13.50'), Decimal('24.00'), Decimal('103.50'), 3, 0, 11) \n",
      "\n",
      "(5, 70644, 57, 1, 14, datetime.date(2013, 1, 1), datetime.date(2013, 1, 2), 19, 4, 'Permanent marker black 5mm nib (Black) 5mm', 'Each', 96, Decimal('2.70'), Decimal('15.000'), Decimal('259.20'), Decimal('38.88'), Decimal('96.00'), Decimal('298.08'), 96, 0, 11) \n",
      "\n",
      "(6, 70644, 57, 1, 90, datetime.date(2013, 1, 1), datetime.date(2013, 1, 2), 19, 4, 'Furry gorilla with big eyes slippers (Black) S', 'Each', 5, Decimal('32.00'), Decimal('15.000'), Decimal('160.00'), Decimal('24.00'), Decimal('120.00'), Decimal('184.00'), 5, 0, 11) \n",
      "\n",
      "(7, 70644, 57, 1, 170, datetime.date(2013, 1, 1), datetime.date(2013, 1, 2), 19, 4, 'Developer joke mug - old C developers never die (White)', 'Each', 2, Decimal('13.00'), Decimal('15.000'), Decimal('26.00'), Decimal('3.90'), Decimal('17.00'), Decimal('29.90'), 2, 0, 11) \n",
      "\n",
      "(8, 56153, 0, 0, 92, datetime.date(2013, 1, 1), datetime.date(2013, 1, 2), 11, 5, 'Plush shark slippers (Gray) L', 'Each', 4, Decimal('32.00'), Decimal('15.000'), Decimal('128.00'), Decimal('19.20'), Decimal('96.00'), Decimal('147.20'), 4, 0, 11) \n",
      "\n",
      "(9, 56153, 0, 0, 99, datetime.date(2013, 1, 1), datetime.date(2013, 1, 2), 11, 5, 'Dinosaur battery-powered slippers (Green) XL', 'Each', 3, Decimal('32.00'), Decimal('15.000'), Decimal('96.00'), Decimal('14.40'), Decimal('70.50'), Decimal('110.40'), 3, 0, 11) \n",
      "\n",
      "(10, 56153, 0, 0, 65, datetime.date(2013, 1, 1), datetime.date(2013, 1, 2), 11, 5, 'Large sized bubblewrap roll 50m', 'Each', 20, Decimal('24.00'), Decimal('15.000'), Decimal('480.00'), Decimal('72.00'), Decimal('220.00'), Decimal('552.00'), 20, 0, 11) \n",
      "\n"
     ]
    }
   ],
   "source": [
    "cursor.execute(\"SELECT top 10 * FROM Fact.Sale\")\n",
    "row = cursor.fetchone()\n",
    "i =0\n",
    "while row and i<=10:\n",
    "  print (row, '\\n')\n",
    "  row = cursor.fetchone()\n",
    "  i = i+1\n"
   ]
  },
  {
   "cell_type": "markdown",
   "metadata": {
    "id": "osx-98Fm7Qaz"
   },
   "source": [
    "Test atoti framework\n"
   ]
  },
  {
   "cell_type": "code",
   "execution_count": 5,
   "metadata": {
    "id": "dbYBy5bKu8Ih"
   },
   "outputs": [],
   "source": [
    "session = tt.Session()"
   ]
  },
  {
   "cell_type": "code",
   "execution_count": 35,
   "metadata": {
    "id": "J-VLxmYs8cXM"
   },
   "outputs": [],
   "source": [
    "data_atoti= session.read_pandas(dataframe=data,table_name='vinh_test')"
   ]
  },
  {
   "cell_type": "code",
   "execution_count": 36,
   "metadata": {
    "id": "FLXg8-Sk7ogi"
   },
   "outputs": [],
   "source": [
    "cube =  session.create_cube(data_atoti  )"
   ]
  },
  {
   "cell_type": "code",
   "execution_count": 37,
   "metadata": {
    "id": "4S6Gi0PZ83cv"
   },
   "outputs": [],
   "source": [
    "cube.hierarchies\n",
    "m = cube.measures\n"
   ]
  },
  {
   "cell_type": "code",
   "execution_count": 38,
   "metadata": {
    "id": "ptKoSXYJ88LF"
   },
   "outputs": [
    {
     "data": {
      "application/json": {
       "Delivery Date Key (vinh_test/Delivery Date Key/Delivery Date Key)": {
        "dimension": "vinh_test",
        "hierarchy": "Delivery Date Key",
        "order": "NaturalOrder",
        "type": "LocalDate"
       },
       "Description (vinh_test/Description/Description)": {
        "dimension": "vinh_test",
        "hierarchy": "Description",
        "order": "NaturalOrder",
        "type": "string"
       },
       "Invoice Date Key (vinh_test/Invoice Date Key/Invoice Date Key)": {
        "dimension": "vinh_test",
        "hierarchy": "Invoice Date Key",
        "order": "NaturalOrder",
        "type": "LocalDate"
       },
       "Package (vinh_test/Package/Package)": {
        "dimension": "vinh_test",
        "hierarchy": "Package",
        "order": "NaturalOrder",
        "type": "string"
       }
      },
      "text/html": [
       "<ul>\n",
       "<li>Levels\n",
       "  <ul>\n",
       "  <li>Delivery Date Key (vinh_test/Delivery Date Key/Delivery Date Key)\n",
       "    <ul>\n",
       "    <li>dimension: vinh_test</li>\n",
       "    <li>hierarchy: Delivery Date Key</li>\n",
       "    <li>type: LocalDate</li>\n",
       "    <li>order: NaturalOrder</li>\n",
       "    </ul>\n",
       "  </li>\n",
       "  <li>Description (vinh_test/Description/Description)\n",
       "    <ul>\n",
       "    <li>dimension: vinh_test</li>\n",
       "    <li>hierarchy: Description</li>\n",
       "    <li>type: string</li>\n",
       "    <li>order: NaturalOrder</li>\n",
       "    </ul>\n",
       "  </li>\n",
       "  <li>Invoice Date Key (vinh_test/Invoice Date Key/Invoice Date Key)\n",
       "    <ul>\n",
       "    <li>dimension: vinh_test</li>\n",
       "    <li>hierarchy: Invoice Date Key</li>\n",
       "    <li>type: LocalDate</li>\n",
       "    <li>order: NaturalOrder</li>\n",
       "    </ul>\n",
       "  </li>\n",
       "  <li>Package (vinh_test/Package/Package)\n",
       "    <ul>\n",
       "    <li>dimension: vinh_test</li>\n",
       "    <li>hierarchy: Package</li>\n",
       "    <li>type: string</li>\n",
       "    <li>order: NaturalOrder</li>\n",
       "    </ul>\n",
       "  </li>\n",
       "  </ul>\n",
       "</li>\n",
       "</ul>\n"
      ],
      "text/plain": [
       "Levels()"
      ]
     },
     "execution_count": 38,
     "metadata": {
      "application/json": {
       "expanded": true,
       "root": "Levels"
      }
     },
     "output_type": "execute_result"
    }
   ],
   "source": [
    "l = cube.levels\n",
    "l"
   ]
  },
  {
   "cell_type": "code",
   "execution_count": 39,
   "metadata": {
    "id": "Q6YAGVbh9DXF"
   },
   "outputs": [
    {
     "data": {
      "application/json": {
       "Bill To Customer Key.MEAN": {
        "formatter": "DOUBLE[#,###.00]"
       },
       "Bill To Customer Key.SUM": {
        "formatter": "INT[#,###]"
       },
       "City Key.MEAN": {
        "formatter": "DOUBLE[#,###.00]"
       },
       "City Key.SUM": {
        "formatter": "INT[#,###]"
       },
       "Customer Key.MEAN": {
        "formatter": "DOUBLE[#,###.00]"
       },
       "Customer Key.SUM": {
        "formatter": "INT[#,###]"
       },
       "Lineage Key.MEAN": {
        "formatter": "DOUBLE[#,###.00]"
       },
       "Lineage Key.SUM": {
        "formatter": "INT[#,###]"
       },
       "Profit.MEAN": {
        "formatter": "DOUBLE[#,###.00]"
       },
       "Profit.SUM": {
        "formatter": "DOUBLE[#,###.00]"
       },
       "Quantity.MEAN": {
        "formatter": "DOUBLE[#,###.00]"
       },
       "Quantity.SUM": {
        "formatter": "INT[#,###]"
       },
       "Sale Key.MEAN": {
        "formatter": "DOUBLE[#,###.00]"
       },
       "Sale Key.SUM": {
        "formatter": "INT[#,###]"
       },
       "Salesperson Key.MEAN": {
        "formatter": "DOUBLE[#,###.00]"
       },
       "Salesperson Key.SUM": {
        "formatter": "INT[#,###]"
       },
       "Stock Item Key.MEAN": {
        "formatter": "DOUBLE[#,###.00]"
       },
       "Stock Item Key.SUM": {
        "formatter": "INT[#,###]"
       },
       "Tax Amount.MEAN": {
        "formatter": "DOUBLE[#,###.00]"
       },
       "Tax Amount.SUM": {
        "formatter": "DOUBLE[#,###.00]"
       },
       "Tax Rate.MEAN": {
        "formatter": "DOUBLE[#,###.00]"
       },
       "Tax Rate.SUM": {
        "formatter": "DOUBLE[#,###.00]"
       },
       "Total Chiller Items.MEAN": {
        "formatter": "DOUBLE[#,###.00]"
       },
       "Total Chiller Items.SUM": {
        "formatter": "INT[#,###]"
       },
       "Total Dry Items.MEAN": {
        "formatter": "DOUBLE[#,###.00]"
       },
       "Total Dry Items.SUM": {
        "formatter": "INT[#,###]"
       },
       "Total Excluding Tax.MEAN": {
        "formatter": "DOUBLE[#,###.00]"
       },
       "Total Excluding Tax.SUM": {
        "formatter": "DOUBLE[#,###.00]"
       },
       "Total Including Tax.MEAN": {
        "formatter": "DOUBLE[#,###.00]"
       },
       "Total Including Tax.SUM": {
        "formatter": "DOUBLE[#,###.00]"
       },
       "Unit Price.MEAN": {
        "formatter": "DOUBLE[#,###.00]"
       },
       "Unit Price.SUM": {
        "formatter": "DOUBLE[#,###.00]"
       },
       "WWI Invoice ID.MEAN": {
        "formatter": "DOUBLE[#,###.00]"
       },
       "WWI Invoice ID.SUM": {
        "formatter": "INT[#,###]"
       },
       "contributors.COUNT": {
        "formatter": "INT[#,###]"
       }
      },
      "text/html": [
       "<ul>\n",
       "<li>Measures\n",
       "  <ul>\n",
       "  <li>Bill To Customer Key.MEAN\n",
       "    <ul>\n",
       "    <li>formatter: DOUBLE[#,###.00]</li>\n",
       "    </ul>\n",
       "  </li>\n",
       "  <li>Bill To Customer Key.SUM\n",
       "    <ul>\n",
       "    <li>formatter: INT[#,###]</li>\n",
       "    </ul>\n",
       "  </li>\n",
       "  <li>City Key.MEAN\n",
       "    <ul>\n",
       "    <li>formatter: DOUBLE[#,###.00]</li>\n",
       "    </ul>\n",
       "  </li>\n",
       "  <li>City Key.SUM\n",
       "    <ul>\n",
       "    <li>formatter: INT[#,###]</li>\n",
       "    </ul>\n",
       "  </li>\n",
       "  <li>Customer Key.MEAN\n",
       "    <ul>\n",
       "    <li>formatter: DOUBLE[#,###.00]</li>\n",
       "    </ul>\n",
       "  </li>\n",
       "  <li>Customer Key.SUM\n",
       "    <ul>\n",
       "    <li>formatter: INT[#,###]</li>\n",
       "    </ul>\n",
       "  </li>\n",
       "  <li>Lineage Key.MEAN\n",
       "    <ul>\n",
       "    <li>formatter: DOUBLE[#,###.00]</li>\n",
       "    </ul>\n",
       "  </li>\n",
       "  <li>Lineage Key.SUM\n",
       "    <ul>\n",
       "    <li>formatter: INT[#,###]</li>\n",
       "    </ul>\n",
       "  </li>\n",
       "  <li>Profit.MEAN\n",
       "    <ul>\n",
       "    <li>formatter: DOUBLE[#,###.00]</li>\n",
       "    </ul>\n",
       "  </li>\n",
       "  <li>Profit.SUM\n",
       "    <ul>\n",
       "    <li>formatter: DOUBLE[#,###.00]</li>\n",
       "    </ul>\n",
       "  </li>\n",
       "  <li>Quantity.MEAN\n",
       "    <ul>\n",
       "    <li>formatter: DOUBLE[#,###.00]</li>\n",
       "    </ul>\n",
       "  </li>\n",
       "  <li>Quantity.SUM\n",
       "    <ul>\n",
       "    <li>formatter: INT[#,###]</li>\n",
       "    </ul>\n",
       "  </li>\n",
       "  <li>Sale Key.MEAN\n",
       "    <ul>\n",
       "    <li>formatter: DOUBLE[#,###.00]</li>\n",
       "    </ul>\n",
       "  </li>\n",
       "  <li>Sale Key.SUM\n",
       "    <ul>\n",
       "    <li>formatter: INT[#,###]</li>\n",
       "    </ul>\n",
       "  </li>\n",
       "  <li>Salesperson Key.MEAN\n",
       "    <ul>\n",
       "    <li>formatter: DOUBLE[#,###.00]</li>\n",
       "    </ul>\n",
       "  </li>\n",
       "  <li>Salesperson Key.SUM\n",
       "    <ul>\n",
       "    <li>formatter: INT[#,###]</li>\n",
       "    </ul>\n",
       "  </li>\n",
       "  <li>Stock Item Key.MEAN\n",
       "    <ul>\n",
       "    <li>formatter: DOUBLE[#,###.00]</li>\n",
       "    </ul>\n",
       "  </li>\n",
       "  <li>Stock Item Key.SUM\n",
       "    <ul>\n",
       "    <li>formatter: INT[#,###]</li>\n",
       "    </ul>\n",
       "  </li>\n",
       "  <li>Tax Amount.MEAN\n",
       "    <ul>\n",
       "    <li>formatter: DOUBLE[#,###.00]</li>\n",
       "    </ul>\n",
       "  </li>\n",
       "  <li>Tax Amount.SUM\n",
       "    <ul>\n",
       "    <li>formatter: DOUBLE[#,###.00]</li>\n",
       "    </ul>\n",
       "  </li>\n",
       "  <li>Tax Rate.MEAN\n",
       "    <ul>\n",
       "    <li>formatter: DOUBLE[#,###.00]</li>\n",
       "    </ul>\n",
       "  </li>\n",
       "  <li>Tax Rate.SUM\n",
       "    <ul>\n",
       "    <li>formatter: DOUBLE[#,###.00]</li>\n",
       "    </ul>\n",
       "  </li>\n",
       "  <li>Total Chiller Items.MEAN\n",
       "    <ul>\n",
       "    <li>formatter: DOUBLE[#,###.00]</li>\n",
       "    </ul>\n",
       "  </li>\n",
       "  <li>Total Chiller Items.SUM\n",
       "    <ul>\n",
       "    <li>formatter: INT[#,###]</li>\n",
       "    </ul>\n",
       "  </li>\n",
       "  <li>Total Dry Items.MEAN\n",
       "    <ul>\n",
       "    <li>formatter: DOUBLE[#,###.00]</li>\n",
       "    </ul>\n",
       "  </li>\n",
       "  <li>Total Dry Items.SUM\n",
       "    <ul>\n",
       "    <li>formatter: INT[#,###]</li>\n",
       "    </ul>\n",
       "  </li>\n",
       "  <li>Total Excluding Tax.MEAN\n",
       "    <ul>\n",
       "    <li>formatter: DOUBLE[#,###.00]</li>\n",
       "    </ul>\n",
       "  </li>\n",
       "  <li>Total Excluding Tax.SUM\n",
       "    <ul>\n",
       "    <li>formatter: DOUBLE[#,###.00]</li>\n",
       "    </ul>\n",
       "  </li>\n",
       "  <li>Total Including Tax.MEAN\n",
       "    <ul>\n",
       "    <li>formatter: DOUBLE[#,###.00]</li>\n",
       "    </ul>\n",
       "  </li>\n",
       "  <li>Total Including Tax.SUM\n",
       "    <ul>\n",
       "    <li>formatter: DOUBLE[#,###.00]</li>\n",
       "    </ul>\n",
       "  </li>\n",
       "  <li>Unit Price.MEAN\n",
       "    <ul>\n",
       "    <li>formatter: DOUBLE[#,###.00]</li>\n",
       "    </ul>\n",
       "  </li>\n",
       "  <li>Unit Price.SUM\n",
       "    <ul>\n",
       "    <li>formatter: DOUBLE[#,###.00]</li>\n",
       "    </ul>\n",
       "  </li>\n",
       "  <li>WWI Invoice ID.MEAN\n",
       "    <ul>\n",
       "    <li>formatter: DOUBLE[#,###.00]</li>\n",
       "    </ul>\n",
       "  </li>\n",
       "  <li>WWI Invoice ID.SUM\n",
       "    <ul>\n",
       "    <li>formatter: INT[#,###]</li>\n",
       "    </ul>\n",
       "  </li>\n",
       "  <li>contributors.COUNT\n",
       "    <ul>\n",
       "    <li>formatter: INT[#,###]</li>\n",
       "    </ul>\n",
       "  </li>\n",
       "  </ul>\n",
       "</li>\n",
       "</ul>\n"
      ],
      "text/plain": [
       "Measures()"
      ]
     },
     "execution_count": 39,
     "metadata": {
      "application/json": {
       "expanded": false,
       "root": "Measures"
      }
     },
     "output_type": "execute_result"
    }
   ],
   "source": [
    "m"
   ]
  },
  {
   "cell_type": "code",
   "execution_count": 159,
   "metadata": {
    "tags": []
   },
   "outputs": [
    {
     "name": "stdout",
     "output_type": "stream",
     "text": [
      "    Package                                        Description  Profit.SUM\n",
      "0      Each           Ride on toy sedan car (Black) 1/12 scale      1700.0\n",
      "1      Each  Developer joke mug - old C developers never di...       561.0\n",
      "2      Each               USB food flash drive - chocolate bar       720.0\n",
      "3      Each                 Superhero action jacket (Blue) XXL       112.0\n",
      "4      Each         Permanent marker black 5mm nib (Black) 5mm       528.0\n",
      "..      ...                                                ...         ...\n",
      "211    Each                   Void fill 300 L bag (White) 300L      3900.0\n",
      "212    Each                  Superhero action jacket (Blue) XL        72.0\n",
      "213    Each                  DBA joke mug - daaaaaa-ta (Black)       127.5\n",
      "214    Each     \"The Gu\" red shirt XML tag t-shirt (White) 5XL      1080.0\n",
      "215    Each   Black and orange fragile despatch tape 48mmx100m       518.4\n",
      "\n",
      "[216 rows x 3 columns]\n"
     ]
    }
   ],
   "source": [
    "query1 = cube.query(m['Profit.SUM'],levels=[l['Package'],l['Description']],mode = \"raw\")\n",
    "print(query1)"
   ]
  },
  {
   "cell_type": "code",
   "execution_count": 163,
   "metadata": {},
   "outputs": [
    {
     "name": "stderr",
     "output_type": "stream",
     "text": [
      "c:\\users\\vinh2_ri4orrg\\pycharmprojects\\pythonproject1\\venv\\lib\\site-packages\\seaborn\\distributions.py:2619: FutureWarning: `distplot` is a deprecated function and will be removed in a future version. Please adapt your code to use either `displot` (a figure-level function with similar flexibility) or `histplot` (an axes-level function for histograms).\n",
      "  warnings.warn(msg, FutureWarning)\n"
     ]
    },
    {
     "ename": "ValueError",
     "evalue": "could not convert string to float: 'Each'",
     "output_type": "error",
     "traceback": [
      "\u001b[1;31m---------------------------------------------------------------------------\u001b[0m",
      "\u001b[1;31mValueError\u001b[0m                                Traceback (most recent call last)",
      "Input \u001b[1;32mIn [163]\u001b[0m, in \u001b[0;36m<cell line: 1>\u001b[1;34m()\u001b[0m\n\u001b[1;32m----> 1\u001b[0m \u001b[43msns\u001b[49m\u001b[38;5;241;43m.\u001b[39;49m\u001b[43mdistplot\u001b[49m\u001b[43m(\u001b[49m\u001b[43mquery1\u001b[49m\u001b[43m[\u001b[49m\u001b[38;5;124;43m'\u001b[39;49m\u001b[38;5;124;43mPackage\u001b[39;49m\u001b[38;5;124;43m'\u001b[39;49m\u001b[43m]\u001b[49m\u001b[43m)\u001b[49m\n",
      "File \u001b[1;32mc:\\users\\vinh2_ri4orrg\\pycharmprojects\\pythonproject1\\venv\\lib\\site-packages\\seaborn\\distributions.py:2636\u001b[0m, in \u001b[0;36mdistplot\u001b[1;34m(a, bins, hist, kde, rug, fit, hist_kws, kde_kws, rug_kws, fit_kws, color, vertical, norm_hist, axlabel, label, ax, x)\u001b[0m\n\u001b[0;32m   2633\u001b[0m     a \u001b[38;5;241m=\u001b[39m x\n\u001b[0;32m   2635\u001b[0m \u001b[38;5;66;03m# Make a a 1-d float array\u001b[39;00m\n\u001b[1;32m-> 2636\u001b[0m a \u001b[38;5;241m=\u001b[39m \u001b[43mnp\u001b[49m\u001b[38;5;241;43m.\u001b[39;49m\u001b[43masarray\u001b[49m\u001b[43m(\u001b[49m\u001b[43ma\u001b[49m\u001b[43m,\u001b[49m\u001b[43m \u001b[49m\u001b[38;5;28;43mfloat\u001b[39;49m\u001b[43m)\u001b[49m\n\u001b[0;32m   2637\u001b[0m \u001b[38;5;28;01mif\u001b[39;00m a\u001b[38;5;241m.\u001b[39mndim \u001b[38;5;241m>\u001b[39m \u001b[38;5;241m1\u001b[39m:\n\u001b[0;32m   2638\u001b[0m     a \u001b[38;5;241m=\u001b[39m a\u001b[38;5;241m.\u001b[39msqueeze()\n",
      "File \u001b[1;32mc:\\users\\vinh2_ri4orrg\\pycharmprojects\\pythonproject1\\venv\\lib\\site-packages\\pandas\\core\\series.py:872\u001b[0m, in \u001b[0;36mSeries.__array__\u001b[1;34m(self, dtype)\u001b[0m\n\u001b[0;32m    825\u001b[0m \u001b[38;5;28;01mdef\u001b[39;00m \u001b[38;5;21m__array__\u001b[39m(\u001b[38;5;28mself\u001b[39m, dtype: npt\u001b[38;5;241m.\u001b[39mDTypeLike \u001b[38;5;241m|\u001b[39m \u001b[38;5;28;01mNone\u001b[39;00m \u001b[38;5;241m=\u001b[39m \u001b[38;5;28;01mNone\u001b[39;00m) \u001b[38;5;241m-\u001b[39m\u001b[38;5;241m>\u001b[39m np\u001b[38;5;241m.\u001b[39mndarray:\n\u001b[0;32m    826\u001b[0m     \u001b[38;5;124;03m\"\"\"\u001b[39;00m\n\u001b[0;32m    827\u001b[0m \u001b[38;5;124;03m    Return the values as a NumPy array.\u001b[39;00m\n\u001b[0;32m    828\u001b[0m \n\u001b[1;32m   (...)\u001b[0m\n\u001b[0;32m    870\u001b[0m \u001b[38;5;124;03m          dtype='datetime64[ns]')\u001b[39;00m\n\u001b[0;32m    871\u001b[0m \u001b[38;5;124;03m    \"\"\"\u001b[39;00m\n\u001b[1;32m--> 872\u001b[0m     \u001b[38;5;28;01mreturn\u001b[39;00m \u001b[43mnp\u001b[49m\u001b[38;5;241;43m.\u001b[39;49m\u001b[43masarray\u001b[49m\u001b[43m(\u001b[49m\u001b[38;5;28;43mself\u001b[39;49m\u001b[38;5;241;43m.\u001b[39;49m\u001b[43m_values\u001b[49m\u001b[43m,\u001b[49m\u001b[43m \u001b[49m\u001b[43mdtype\u001b[49m\u001b[43m)\u001b[49m\n",
      "\u001b[1;31mValueError\u001b[0m: could not convert string to float: 'Each'"
     ]
    },
    {
     "data": {
      "image/png": "[encoded data removed]",
      "text/plain": [
       "<Figure size 432x288 with 1 Axes>"
      ]
     },
     "metadata": {
      "needs_background": "light"
     },
     "output_type": "display_data"
    }
   ],
   "source": [
    "sns.distplot(query1)"
   ]
  },
  {
   "cell_type": "code",
   "execution_count": 125,
   "metadata": {
    "atoti": {
     "widget": {
      "columnWidths": {
       "[test].[Description].[Description]": 203
      },
      "mapping": {
       "horizontalSubplots": [],
       "sliceBy": [
        "[test].[Package].[Package]"
       ],
       "values": [
        "[Measures].[Profit.MEAN]"
       ],
       "verticalSubplots": []
      },
      "name": "exploration 1",
      "query": {
       "mdx": "SELECT NON EMPTY {[Measures].[Profit.MEAN]} ON COLUMNS, NON EMPTY Hierarchize(Descendants({[test].[Package].[AllMember]}, 1, SELF_AND_BEFORE)) ON ROWS FROM [test] CELL PROPERTIES VALUE, FORMATTED_VALUE, BACK_COLOR, FORE_COLOR, FONT_FLAGS",
       "updateMode": "once"
      },
      "serverKey": "default",
      "widgetKey": "plotly-pie-chart"
     }
    },
    "id": "V0F8p6bqhzNI",
    "tags": []
   },
   "outputs": [
    {
     "data": {
      "application/vnd.atoti.widget.v0+json": {
       "name": "query1",
       "sessionId": "1649905770_BGPA4I",
       "sessionLocation": {
        "https": null,
        "port": 58010
       },
       "widgetCreationCode": "session.visualize()"
      },
      "text/html": [
       "<img src=\"data:image/svg+xml;charset=utf8,%3C%3Fxml%20version%3D%221.0%22%20standalone%3D%22no%22%3F%3E%3Csvg%20xmlns%3D%22http%3A%2F%2Fwww.w3.org%2F2000%2Fsvg%22%20xmlns%3Axlink%3D%22http%3A%2F%2Fwww.w3.org%2F1999%2Fxlink%22%20height%3D%22352%22%20width%3D%22991%22%20viewBox%3D%220%200%20991%20352%22%3E%3Cdefs%20id%3D%22defs-55b817%22%3E%3Cg%20class%3D%22clips%22%2F%3E%3Cg%20class%3D%22gradients%22%2F%3E%3C%2Fdefs%3E%3Cg%20class%3D%22bglayer%22%2F%3E%3Cg%20class%3D%22draglayer%22%2F%3E%3Cg%20class%3D%22layer-below%22%3E%3Cg%20class%3D%22imagelayer%22%2F%3E%3Cg%20class%3D%22shapelayer%22%2F%3E%3C%2Fg%3E%3Cg%20class%3D%22cartesianlayer%22%2F%3E%3Cg%20class%3D%22polarlayer%22%2F%3E%3Cg%20class%3D%22ternarylayer%22%2F%3E%3Cg%20class%3D%22geolayer%22%2F%3E%3Cg%20class%3D%22funnelarealayer%22%2F%3E%3Cg%20class%3D%22pielayer%22%3E%3Cg%20class%3D%22trace%22%20stroke-linejoin%3D%22round%22%20style%3D%22opacity%3A%201%3B%22%3E%3Cg%20class%3D%22slice%22%3E%3Cpath%20class%3D%22surface%22%20d%3D%22M485%2C151l0%2C-121a121%2C121%200%200%201%2086.23423366290683%2C205.88025061562428Z%22%20style%3D%22pointer-events%3A%20all%3B%20stroke-width%3A%200%3B%20fill%3A%20rgb(78%2C%20121%2C%20167)%3B%20fill-opacity%3A%201%3B%20stroke%3A%20rgb(68%2C%2068%2C%2068)%3B%20stroke-opacity%3A%201%3B%22%2F%3E%3C%2Fg%3E%3Cg%20class%3D%22slice%22%3E%3Cpath%20class%3D%22surface%22%20d%3D%22M485%2C151l-97.05082653201134%2C72.26435545587772a121%2C121%200%200%201%2097.05082653201134%2C-193.2643554558777Z%22%20style%3D%22pointer-events%3A%20all%3B%20stroke-width%3A%200%3B%20fill%3A%20rgb(242%2C%20142%2C%2044)%3B%20fill-opacity%3A%201%3B%20stroke%3A%20rgb(68%2C%2068%2C%2068)%3B%20stroke-opacity%3A%201%3B%22%2F%3E%3C%2Fg%3E%3Cg%20class%3D%22slice%22%3E%3Cpath%20class%3D%22surface%22%20d%3D%22M485%2C151l86.23423366290677%2C84.88025061562433a121%2C121%200%200%201%20-183.28506019491812%2C-12.615895159746614Z%22%20style%3D%22pointer-events%3A%20all%3B%20stroke-width%3A%200%3B%20fill%3A%20rgb(225%2C%2087%2C%2089)%3B%20fill-opacity%3A%201%3B%20stroke%3A%20rgb(68%2C%2068%2C%2068)%3B%20stroke-opacity%3A%201%3B%22%2F%3E%3C%2Fg%3E%3C%2Fg%3E%3C%2Fg%3E%3Cg%20class%3D%22treemaplayer%22%2F%3E%3Cg%20class%3D%22sunburstlayer%22%2F%3E%3Cg%20class%3D%22glimages%22%2F%3E%3Cdefs%20id%3D%22topdefs-55b817%22%3E%3Cg%20class%3D%22clips%22%2F%3E%3CclipPath%20id%3D%22legend55b817%22%3E%3Crect%20width%3D%2285%22%20height%3D%2267%22%20x%3D%220%22%20y%3D%220%22%2F%3E%3C%2FclipPath%3E%3C%2Fdefs%3E%3Cg%20class%3D%22indicatorlayer%22%2F%3E%3Cg%20class%3D%22layer-above%22%3E%3Cg%20class%3D%22imagelayer%22%2F%3E%3Cg%20class%3D%22shapelayer%22%2F%3E%3C%2Fg%3E%3Cg%20class%3D%22infolayer%22%3E%3Cg%20class%3D%22legend%22%20pointer-events%3D%22all%22%20transform%3D%22translate(906%2C30)%22%3E%3Crect%20class%3D%22bg%22%20shape-rendering%3D%22crispEdges%22%20width%3D%2285%22%20height%3D%2267%22%20x%3D%220%22%20y%3D%220%22%20style%3D%22stroke%3A%20rgb(68%2C%2068%2C%2068)%3B%20stroke-opacity%3A%201%3B%20fill%3A%20rgb(255%2C%20255%2C%20255)%3B%20fill-opacity%3A%201%3B%20stroke-width%3A%200px%3B%22%2F%3E%3Cg%20class%3D%22scrollbox%22%20transform%3D%22%22%20clip-path%3D%22url('%23legend55b817')%22%3E%3Cg%20class%3D%22groups%22%3E%3Cg%20class%3D%22traces%22%20transform%3D%22translate(0%2C14.5)%22%20style%3D%22opacity%3A%201%3B%22%3E%3Ctext%20class%3D%22legendtext%22%20text-anchor%3D%22start%22%20x%3D%2240%22%20y%3D%224.680000000000001%22%20data-unformatted%3D%22Packet%22%20data-math%3D%22N%22%20style%3D%22font-family%3A%20%26quot%3BOpen%20Sans%26quot%3B%2C%20verdana%2C%20arial%2C%20sans-serif%3B%20font-size%3A%2012px%3B%20fill%3A%20rgb(89%2C%2089%2C%2089)%3B%20fill-opacity%3A%201%3B%20white-space%3A%20pre%3B%22%3EPacket%3C%2Ftext%3E%3Cg%20class%3D%22layers%22%20style%3D%22opacity%3A%201%3B%22%3E%3Cg%20class%3D%22legendfill%22%2F%3E%3Cg%20class%3D%22legendlines%22%2F%3E%3Cg%20class%3D%22legendsymbols%22%3E%3Cg%20class%3D%22legendpoints%22%3E%3Cpath%20class%3D%22legendpie%22%20d%3D%22M6%2C6H-6V-6H6Z%22%20transform%3D%22translate(20%2C0)%22%20style%3D%22stroke-width%3A%200%3B%20fill%3A%20rgb(78%2C%20121%2C%20167)%3B%20fill-opacity%3A%201%3B%20stroke%3A%20rgb(68%2C%2068%2C%2068)%3B%20stroke-opacity%3A%201%3B%22%2F%3E%3C%2Fg%3E%3C%2Fg%3E%3C%2Fg%3E%3Crect%20class%3D%22legendtoggle%22%20pointer-events%3D%22all%22%20x%3D%220%22%20y%3D%22-9.5%22%20width%3D%2279.33515548706055%22%20height%3D%2219%22%20style%3D%22cursor%3A%20pointer%3B%20fill%3A%20rgb(0%2C%200%2C%200)%3B%20fill-opacity%3A%200%3B%22%2F%3E%3C%2Fg%3E%3Cg%20class%3D%22traces%22%20transform%3D%22translate(0%2C33.5)%22%20style%3D%22opacity%3A%201%3B%22%3E%3Ctext%20class%3D%22legendtext%22%20text-anchor%3D%22start%22%20x%3D%2240%22%20y%3D%224.680000000000001%22%20data-unformatted%3D%22Each%22%20data-math%3D%22N%22%20style%3D%22font-family%3A%20%26quot%3BOpen%20Sans%26quot%3B%2C%20verdana%2C%20arial%2C%20sans-serif%3B%20font-size%3A%2012px%3B%20fill%3A%20rgb(89%2C%2089%2C%2089)%3B%20fill-opacity%3A%201%3B%20white-space%3A%20pre%3B%22%3EEach%3C%2Ftext%3E%3Cg%20class%3D%22layers%22%20style%3D%22opacity%3A%201%3B%22%3E%3Cg%20class%3D%22legendfill%22%2F%3E%3Cg%20class%3D%22legendlines%22%2F%3E%3Cg%20class%3D%22legendsymbols%22%3E%3Cg%20class%3D%22legendpoints%22%3E%3Cpath%20class%3D%22legendpie%22%20d%3D%22M6%2C6H-6V-6H6Z%22%20transform%3D%22translate(20%2C0)%22%20style%3D%22stroke-width%3A%200%3B%20fill%3A%20rgb(242%2C%20142%2C%2044)%3B%20fill-opacity%3A%201%3B%20stroke%3A%20rgb(68%2C%2068%2C%2068)%3B%20stroke-opacity%3A%201%3B%22%2F%3E%3C%2Fg%3E%3C%2Fg%3E%3C%2Fg%3E%3Crect%20class%3D%22legendtoggle%22%20pointer-events%3D%22all%22%20x%3D%220%22%20y%3D%22-9.5%22%20width%3D%2279.33515548706055%22%20height%3D%2219%22%20style%3D%22cursor%3A%20pointer%3B%20fill%3A%20rgb(0%2C%200%2C%200)%3B%20fill-opacity%3A%200%3B%22%2F%3E%3C%2Fg%3E%3Cg%20class%3D%22traces%22%20transform%3D%22translate(0%2C52.5)%22%20style%3D%22opacity%3A%201%3B%22%3E%3Ctext%20class%3D%22legendtext%22%20text-anchor%3D%22start%22%20x%3D%2240%22%20y%3D%224.680000000000001%22%20data-unformatted%3D%22Pair%22%20data-math%3D%22N%22%20style%3D%22font-family%3A%20%26quot%3BOpen%20Sans%26quot%3B%2C%20verdana%2C%20arial%2C%20sans-serif%3B%20font-size%3A%2012px%3B%20fill%3A%20rgb(89%2C%2089%2C%2089)%3B%20fill-opacity%3A%201%3B%20white-space%3A%20pre%3B%22%3EPair%3C%2Ftext%3E%3Cg%20class%3D%22layers%22%20style%3D%22opacity%3A%201%3B%22%3E%3Cg%20class%3D%22legendfill%22%2F%3E%3Cg%20class%3D%22legendlines%22%2F%3E%3Cg%20class%3D%22legendsymbols%22%3E%3Cg%20class%3D%22legendpoints%22%3E%3Cpath%20class%3D%22legendpie%22%20d%3D%22M6%2C6H-6V-6H6Z%22%20transform%3D%22translate(20%2C0)%22%20style%3D%22stroke-width%3A%200%3B%20fill%3A%20rgb(225%2C%2087%2C%2089)%3B%20fill-opacity%3A%201%3B%20stroke%3A%20rgb(68%2C%2068%2C%2068)%3B%20stroke-opacity%3A%201%3B%22%2F%3E%3C%2Fg%3E%3C%2Fg%3E%3C%2Fg%3E%3Crect%20class%3D%22legendtoggle%22%20pointer-events%3D%22all%22%20x%3D%220%22%20y%3D%22-9.5%22%20width%3D%2279.33515548706055%22%20height%3D%2219%22%20style%3D%22cursor%3A%20pointer%3B%20fill%3A%20rgb(0%2C%200%2C%200)%3B%20fill-opacity%3A%200%3B%22%2F%3E%3C%2Fg%3E%3C%2Fg%3E%3C%2Fg%3E%3Crect%20class%3D%22scrollbar%22%20rx%3D%2220%22%20ry%3D%223%22%20width%3D%220%22%20height%3D%220%22%20x%3D%220%22%20y%3D%220%22%20style%3D%22fill%3A%20rgb(128%2C%20139%2C%20164)%3B%20fill-opacity%3A%201%3B%22%2F%3E%3C%2Fg%3E%3Cg%20class%3D%22g-gtitle%22%2F%3E%3C%2Fg%3E%3Cg%20class%3D%22menulayer%22%2F%3E%3Cg%20class%3D%22zoomlayer%22%2F%3E%3Cg%20class%3D%22hoverlayer%22%2F%3E%3C%2Fsvg%3E\">"
      ],
      "text/plain": [
       "Open the notebook in JupyterLab with the atoti extension enabled to build this widget."
      ]
     },
     "metadata": {},
     "output_type": "display_data"
    }
   ],
   "source": [
    "session.visualize('query1')"
   ]
  },
  {
   "cell_type": "code",
   "execution_count": 126,
   "metadata": {},
   "outputs": [
    {
     "data": {
      "application/vnd.atoti.link.v0+json": {
       "path": "",
       "sessionLocation": {
        "https": null,
        "port": 58010
       }
      },
      "text/plain": [
       "Open the notebook in JupyterLab with the atoti extension enabled to see this link."
      ]
     },
     "execution_count": 126,
     "metadata": {},
     "output_type": "execute_result"
    }
   ],
   "source": [
    "session.link()"
   ]
  },
  {
   "cell_type": "code",
   "execution_count": null,
   "metadata": {},
   "outputs": [],
   "source": []
  }
 ],
 "metadata": {
  "colab": {
   "collapsed_sections": [],
   "name": "thesis.ipynb",
   "private_outputs": true,
   "provenance": []
  },
  "kernelspec": {
   "display_name": "Python 3 (ipykernel)",
   "language": "python",
   "name": "python3"
  },
  "language_info": {
   "codemirror_mode": {
    "name": "ipython",
    "version": 3
   },
   "file_extension": ".py",
   "mimetype": "text/x-python",
   "name": "python",
   "nbconvert_exporter": "python",
   "pygments_lexer": "ipython3",
   "version": "3.8.6"
  }
 },
 "nbformat": 4,
 "nbformat_minor": 4
}
